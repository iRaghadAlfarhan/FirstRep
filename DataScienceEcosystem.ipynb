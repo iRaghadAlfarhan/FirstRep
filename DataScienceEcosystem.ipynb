{
 "cells": [
  {
   "cell_type": "markdown",
   "id": "8e5b0928-9529-4644-b263-f6ff990fe66d",
   "metadata": {
    "tags": []
   },
   "source": [
    "# Data Science Tools and Ecosystem"
   ]
  },
  {
   "cell_type": "markdown",
   "id": "0dbb89dc-3d64-4254-a649-f7d7ac579a09",
   "metadata": {
    "tags": []
   },
   "source": [
    "In this notebook, Data Science Tools and Ecosystem are summarized."
   ]
  },
  {
   "cell_type": "markdown",
   "id": "33948d2c-2f4f-497c-81e0-17cef0cb6013",
   "metadata": {},
   "source": [
    "**Objectives:**\n",
    "* Learn\n",
    "* Understand\n",
    "* Apply"
   ]
  },
  {
   "cell_type": "markdown",
   "id": "589fd792-8e8c-4540-a6e8-80e04d85c69a",
   "metadata": {},
   "source": [
    "Some of the popular languages that Data Scientists use are:\n",
    "1. Python\n",
    "2. R\n",
    "3. Ruby"
   ]
  },
  {
   "cell_type": "markdown",
   "id": "c79c786e-095c-4cc8-86ac-2dc47f3d8323",
   "metadata": {},
   "source": [
    "Some of the commonly used libraries used by Data Scientists include:\n",
    "1. Pandas\n",
    "2. NumPy\n",
    "3. Seaborn"
   ]
  },
  {
   "cell_type": "markdown",
   "id": "431240a4-aa36-4196-8e2c-fc402732e4db",
   "metadata": {},
   "source": [
    "| Data Science Tools |\n",
    "|--------------------|\n",
    "|SQL                 |\n",
    "|PowerBI             |\n",
    "|GitGub              |"
   ]
  },
  {
   "cell_type": "markdown",
   "id": "0052f90f-0381-4b26-95a1-31632362ce34",
   "metadata": {
    "tags": []
   },
   "source": [
    "### Below are a few examples of evaluating arithmetic expressions in Python\n",
    "- A + B\n",
    "- A ** B\n",
    "- ( A + B ) * C"
   ]
  },
  {
   "cell_type": "code",
   "execution_count": 5,
   "id": "dee4b7cc-f485-4843-8b06-b2af9c17c47d",
   "metadata": {
    "tags": []
   },
   "outputs": [
    {
     "data": {
      "text/plain": [
       "17"
      ]
     },
     "execution_count": 5,
     "metadata": {},
     "output_type": "execute_result"
    }
   ],
   "source": [
    "#This a simple arithmetic expression to mutiply then add integers\n",
    "(3*4)+5"
   ]
  },
  {
   "cell_type": "code",
   "execution_count": 9,
   "id": "c99c3cee-861d-4d61-bd06-7fd6f34ac1cb",
   "metadata": {
    "tags": []
   },
   "outputs": [
    {
     "data": {
      "text/plain": [
       "3.3333333333333335"
      ]
     },
     "execution_count": 9,
     "metadata": {},
     "output_type": "execute_result"
    }
   ],
   "source": [
    "#This will convert 200 minutes to hours by diving by 60\n",
    "m = 200\n",
    "h = 60\n",
    "m / h"
   ]
  },
  {
   "cell_type": "markdown",
   "id": "ebf4256a-9160-4b5b-9d9b-aa3f07afa922",
   "metadata": {},
   "source": [
    "## Author:\n",
    "Raghad Alfarhan"
   ]
  }
 ],
 "metadata": {
  "kernelspec": {
   "display_name": "Python",
   "language": "python",
   "name": "conda-env-python-py"
  },
  "language_info": {
   "codemirror_mode": {
    "name": "ipython",
    "version": 3
   },
   "file_extension": ".py",
   "mimetype": "text/x-python",
   "name": "python",
   "nbconvert_exporter": "python",
   "pygments_lexer": "ipython3",
   "version": "3.7.12"
  }
 },
 "nbformat": 4,
 "nbformat_minor": 5
}
